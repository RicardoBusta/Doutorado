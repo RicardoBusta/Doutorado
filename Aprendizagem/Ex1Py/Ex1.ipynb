{
 "cells": [
  {
   "cell_type": "code",
   "execution_count": 9,
   "metadata": {
    "collapsed": false,
    "scrolled": true
   },
   "outputs": [],
   "source": [
    "#carregar valores e plotar o gráfico\n",
    "import math\n",
    "import numpy as np\n",
    "import pandas as pd\n",
    "import matplotlib.pyplot as plt\n",
    "\n",
    "data = np.loadtxt(open(\"ex1data1.txt\",\"rb\"),delimiter=\",\",skiprows=1)\n",
    "np.shape(matrix)\n",
    "\n",
    "x = data[:,0]\n",
    "y = data[:,1]\n",
    "\n",
    "plt.plot(x,y,'ro')\n",
    "plt.show()"
   ]
  },
  {
   "cell_type": "code",
   "execution_count": null,
   "metadata": {
    "collapsed": true
   },
   "outputs": [],
   "source": [
    "w = [0,0]\n",
    "alpha = 0.001\n",
    "eqm = []\n",
    "numepoch = 1000\n",
    "\n",
    "def f(x,w)\n",
    "    y = w[1]*x + w[0]\n",
    "    return y\n",
    "\n",
    "for epoch in range(0,numepoch)\n",
    "  neqm = 0\n",
    "  randind = np.random.permutation(range(len(x)))\n",
    "  for i in range(0,len(x))\n",
    "    y_x = f(x(randind[i]),w)\n",
    "    e = y(index(i))-y_x\n",
    "    w(1) += alpha*e\n",
    "    w(2) += alpha*e*x(index(i))\n",
    "    neqm += e*e\n",
    "  eqm = [eqm; neqm/numel(x)];\n",
    "endfor\n",
    "\n",
    "subplot(1,2,1)\n",
    "axis([min(x)-1 max(x)+1 min(y)-1 max(y)+1]);\n",
    "hold on\n",
    "scatter(x,y);\n",
    "plot([min(x)-1 max(x)+1], [f(min(x)-1,w) f(max(x)+1,w)], 'color', 'r', 'linewidth', 2);\n",
    "hold off\n",
    "\n",
    "subplot(1,2,2)\n",
    "hold on\n",
    "plot([1:numepoch],eqm,'color', 'g', 'linewidth', 2);\n",
    "hold off"
   ]
  }
 ],
 "metadata": {
  "kernelspec": {
   "display_name": "Python 3",
   "language": "python",
   "name": "python3"
  },
  "language_info": {
   "codemirror_mode": {
    "name": "ipython",
    "version": 3
   },
   "file_extension": ".py",
   "mimetype": "text/x-python",
   "name": "python",
   "nbconvert_exporter": "python",
   "pygments_lexer": "ipython3",
   "version": "3.5.1+"
  }
 },
 "nbformat": 4,
 "nbformat_minor": 0
}
